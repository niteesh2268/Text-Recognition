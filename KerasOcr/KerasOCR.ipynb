{
  "nbformat": 4,
  "nbformat_minor": 0,
  "metadata": {
    "colab": {
      "name": "KerasOCR.ipynb",
      "provenance": []
    },
    "kernelspec": {
      "name": "python3",
      "display_name": "Python 3"
    },
    "accelerator": "GPU"
  },
  "cells": [
    {
      "cell_type": "markdown",
      "metadata": {
        "id": "fx3VjIkgn6p7"
      },
      "source": [
        "# IMPORTS"
      ]
    },
    {
      "cell_type": "code",
      "metadata": {
        "colab": {
          "base_uri": "https://localhost:8080/"
        },
        "id": "Gbp3i3mcxcW_",
        "outputId": "656b7e5a-dddf-4a56-df91-80b07cf63cff"
      },
      "source": [
        "!pip install git+https://github.com/faustomorales/keras-ocr.git#egg=keras-ocr"
      ],
      "execution_count": 1,
      "outputs": [
        {
          "output_type": "stream",
          "text": [
            "Collecting keras-ocr\n",
            "  Cloning https://github.com/faustomorales/keras-ocr.git to /tmp/pip-install-__jv5yt5/keras-ocr\n",
            "  Running command git clone -q https://github.com/faustomorales/keras-ocr.git /tmp/pip-install-__jv5yt5/keras-ocr\n",
            "Collecting essential_generators\n",
            "\u001b[?25l  Downloading https://files.pythonhosted.org/packages/59/b1/979b823497488e5f13c9070fcd6a2e24f6d9c6fd5398e0fbeccc8158bd3b/essential_generators-0.9.2-py3-none-any.whl (9.5MB)\n",
            "\u001b[K     |████████████████████████████████| 9.5MB 7.2MB/s \n",
            "\u001b[?25hRequirement already satisfied: tqdm in /usr/local/lib/python3.6/dist-packages (from keras-ocr) (4.41.1)\n",
            "Requirement already satisfied: imgaug in /usr/local/lib/python3.6/dist-packages (from keras-ocr) (0.2.9)\n",
            "Collecting validators\n",
            "  Downloading https://files.pythonhosted.org/packages/41/4a/3360ff3cf2b4a1b9721ac1fbff5f84663f41047d9874b3aa1ac82e862c44/validators-0.18.1-py3-none-any.whl\n",
            "Collecting fonttools\n",
            "\u001b[?25l  Downloading https://files.pythonhosted.org/packages/27/f2/f260ce9f335808c42afa1546cc24409297e0b179381699aa35a23d1bf54c/fonttools-4.18.0-py3-none-any.whl (828kB)\n",
            "\u001b[K     |████████████████████████████████| 829kB 54.6MB/s \n",
            "\u001b[?25hRequirement already satisfied: editdistance in /usr/local/lib/python3.6/dist-packages (from keras-ocr) (0.5.3)\n",
            "Collecting pyclipper\n",
            "\u001b[?25l  Downloading https://files.pythonhosted.org/packages/e3/82/eb4d65b8a7f53e83157d54b200c97e1d2085e48664f6f41af49155f6f9dd/pyclipper-1.2.0-cp36-cp36m-manylinux1_x86_64.whl (126kB)\n",
            "\u001b[K     |████████████████████████████████| 133kB 63.6MB/s \n",
            "\u001b[?25hRequirement already satisfied: shapely in /usr/local/lib/python3.6/dist-packages (from keras-ocr) (1.7.1)\n",
            "Collecting efficientnet==1.0.0\n",
            "  Downloading https://files.pythonhosted.org/packages/97/82/f3ae07316f0461417dc54affab6e86ab188a5a22f33176d35271628b96e0/efficientnet-1.0.0-py3-none-any.whl\n",
            "Requirement already satisfied: opencv-python in /usr/local/lib/python3.6/dist-packages (from imgaug->keras-ocr) (4.1.2.30)\n",
            "Requirement already satisfied: imageio in /usr/local/lib/python3.6/dist-packages (from imgaug->keras-ocr) (2.4.1)\n",
            "Requirement already satisfied: six in /usr/local/lib/python3.6/dist-packages (from imgaug->keras-ocr) (1.15.0)\n",
            "Requirement already satisfied: Pillow in /usr/local/lib/python3.6/dist-packages (from imgaug->keras-ocr) (7.0.0)\n",
            "Requirement already satisfied: numpy>=1.15.0 in /usr/local/lib/python3.6/dist-packages (from imgaug->keras-ocr) (1.18.5)\n",
            "Requirement already satisfied: scikit-image>=0.11.0 in /usr/local/lib/python3.6/dist-packages (from imgaug->keras-ocr) (0.16.2)\n",
            "Requirement already satisfied: scipy in /usr/local/lib/python3.6/dist-packages (from imgaug->keras-ocr) (1.4.1)\n",
            "Requirement already satisfied: matplotlib in /usr/local/lib/python3.6/dist-packages (from imgaug->keras-ocr) (3.2.2)\n",
            "Requirement already satisfied: decorator>=3.4.0 in /usr/local/lib/python3.6/dist-packages (from validators->keras-ocr) (4.4.2)\n",
            "Collecting keras-applications<=1.0.8,>=1.0.7\n",
            "\u001b[?25l  Downloading https://files.pythonhosted.org/packages/71/e3/19762fdfc62877ae9102edf6342d71b28fbfd9dea3d2f96a882ce099b03f/Keras_Applications-1.0.8-py3-none-any.whl (50kB)\n",
            "\u001b[K     |████████████████████████████████| 51kB 7.2MB/s \n",
            "\u001b[?25hRequirement already satisfied: networkx>=2.0 in /usr/local/lib/python3.6/dist-packages (from scikit-image>=0.11.0->imgaug->keras-ocr) (2.5)\n",
            "Requirement already satisfied: PyWavelets>=0.4.0 in /usr/local/lib/python3.6/dist-packages (from scikit-image>=0.11.0->imgaug->keras-ocr) (1.1.1)\n",
            "Requirement already satisfied: python-dateutil>=2.1 in /usr/local/lib/python3.6/dist-packages (from matplotlib->imgaug->keras-ocr) (2.8.1)\n",
            "Requirement already satisfied: pyparsing!=2.0.4,!=2.1.2,!=2.1.6,>=2.0.1 in /usr/local/lib/python3.6/dist-packages (from matplotlib->imgaug->keras-ocr) (2.4.7)\n",
            "Requirement already satisfied: cycler>=0.10 in /usr/local/lib/python3.6/dist-packages (from matplotlib->imgaug->keras-ocr) (0.10.0)\n",
            "Requirement already satisfied: kiwisolver>=1.0.1 in /usr/local/lib/python3.6/dist-packages (from matplotlib->imgaug->keras-ocr) (1.3.1)\n",
            "Requirement already satisfied: h5py in /usr/local/lib/python3.6/dist-packages (from keras-applications<=1.0.8,>=1.0.7->efficientnet==1.0.0->keras-ocr) (2.10.0)\n",
            "Building wheels for collected packages: keras-ocr\n",
            "  Building wheel for keras-ocr (setup.py) ... \u001b[?25l\u001b[?25hdone\n",
            "  Created wheel for keras-ocr: filename=keras_ocr-0.8.6-cp36-none-any.whl size=149773 sha256=c6da78703271cf67b7600fc52f4a3a8f6bb0bd4fc10a5104ae849dca7ef04770\n",
            "  Stored in directory: /tmp/pip-ephem-wheel-cache-xmm2h1q6/wheels/ba/8d/59/67aed2a9100ea1342f8d5ce47e8b7f6ac0745ba66f5917820a\n",
            "Successfully built keras-ocr\n",
            "Installing collected packages: essential-generators, validators, fonttools, pyclipper, keras-applications, efficientnet, keras-ocr\n",
            "Successfully installed efficientnet-1.0.0 essential-generators-0.9.2 fonttools-4.18.0 keras-applications-1.0.8 keras-ocr-0.8.6 pyclipper-1.2.0 validators-0.18.1\n"
          ],
          "name": "stdout"
        }
      ]
    },
    {
      "cell_type": "code",
      "metadata": {
        "id": "3zvBn2TxxkLI"
      },
      "source": [
        "import matplotlib.pyplot as plt\n",
        "import keras_ocr\n"
      ],
      "execution_count": 2,
      "outputs": []
    },
    {
      "cell_type": "code",
      "metadata": {
        "id": "XdQ4XgQG5QAp"
      },
      "source": [
        "import os\n",
        "from sklearn.metrics import accuracy_score\n",
        "import editdistance\n",
        "from sklearn.metrics import confusion_matrix\n",
        "import seaborn as sns\n",
        "import string\n",
        "from sklearn.metrics import classification_report\n",
        "characters=list(string.ascii_lowercase)"
      ],
      "execution_count": 3,
      "outputs": []
    },
    {
      "cell_type": "markdown",
      "metadata": {
        "id": "ccOIWVjAoHHc"
      },
      "source": [
        "# READ IMAGES"
      ]
    },
    {
      "cell_type": "code",
      "metadata": {
        "id": "hisl6kEIH_-4"
      },
      "source": [
        "basefolder = '/content/img/'\n",
        "eastbasefolder = '/content/east/'"
      ],
      "execution_count": 52,
      "outputs": []
    },
    {
      "cell_type": "code",
      "metadata": {
        "id": "lU-yDdBUxys6"
      },
      "source": [
        "images = [\n",
        "          keras_ocr.tools.read_and_fit(basefolder+img,width=320,height=320) for img in os.listdir(basefolder) if img.endswith('.png')\n",
        "\n",
        "]"
      ],
      "execution_count": 21,
      "outputs": []
    },
    {
      "cell_type": "code",
      "metadata": {
        "id": "6YTHu_5Yhs30"
      },
      "source": [
        "east_images = [\n",
        "          keras_ocr.tools.read_and_fit(eastbasefolder+img,width=320,height=320) for img in os.listdir(eastbasefolder) if img.endswith('.png')\n",
        "\n",
        "]"
      ],
      "execution_count": 53,
      "outputs": []
    },
    {
      "cell_type": "markdown",
      "metadata": {
        "id": "3ICzaUxtoSI-"
      },
      "source": [
        "# Define the PipeLine from Keras OCR"
      ]
    },
    {
      "cell_type": "code",
      "metadata": {
        "colab": {
          "base_uri": "https://localhost:8080/"
        },
        "id": "YoG3eubm1n3g",
        "outputId": "a49e64e4-b7b9-4963-de25-c05d220bde44"
      },
      "source": [
        "recognizer = keras_ocr.recognition.Recognizer()\n",
        "pipeline = keras_ocr.pipeline.Pipeline(recognizer=recognizer)"
      ],
      "execution_count": 4,
      "outputs": [
        {
          "output_type": "stream",
          "text": [
            "WARNING:tensorflow:From /usr/local/lib/python3.6/dist-packages/tensorflow/python/util/dispatch.py:201: sparse_to_dense (from tensorflow.python.ops.sparse_ops) is deprecated and will be removed in a future version.\n",
            "Instructions for updating:\n",
            "Create a `tf.sparse.SparseTensor` and use `tf.sparse.to_dense` instead.\n",
            "Looking for /root/.keras-ocr/crnn_kurapan.h5\n",
            "Downloading /root/.keras-ocr/crnn_kurapan.h5\n",
            "Looking for /root/.keras-ocr/craft_mlt_25k.h5\n",
            "Downloading /root/.keras-ocr/craft_mlt_25k.h5\n"
          ],
          "name": "stdout"
        }
      ]
    },
    {
      "cell_type": "code",
      "metadata": {
        "id": "v_tlDI0VGozR"
      },
      "source": [
        "originals = [img[:-4] for img in os.listdir(basefolder) if img.endswith('.png')]"
      ],
      "execution_count": 22,
      "outputs": []
    },
    {
      "cell_type": "code",
      "metadata": {
        "id": "xAc8kc2RGyeH"
      },
      "source": [
        "originals"
      ],
      "execution_count": null,
      "outputs": []
    },
    {
      "cell_type": "markdown",
      "metadata": {
        "id": "RP2Pg0VjoeQr"
      },
      "source": [
        "# Prediction on YOLO Images"
      ]
    },
    {
      "cell_type": "code",
      "metadata": {
        "id": "C46u7QsPI2zt"
      },
      "source": [
        "prediction = pipeline.recognize(images)"
      ],
      "execution_count": 24,
      "outputs": []
    },
    {
      "cell_type": "code",
      "metadata": {
        "colab": {
          "base_uri": "https://localhost:8080/"
        },
        "id": "KOaOuodNKy2-",
        "outputId": "10c62804-2806-4d88-ff98-72e40d8b30fa"
      },
      "source": [
        "for orig,pred in zip(originals,prediction):\n",
        "    text = ''\n",
        "    for item in pred:\n",
        "        text += '\\t' + item[0]\n",
        "    print(orig+'....\\t',text)"
      ],
      "execution_count": 32,
      "outputs": [
        {
          "output_type": "stream",
          "text": [
            "power....\t \tdow\n",
            "beaver84....\t \tbeaver84\n",
            "queen....\t \tqueen\n",
            "first....\t \td\n",
            "forum....\t \tforum\n",
            "compact....\t \tcompa\n",
            "wines....\t \twines\n",
            "2C....\t \n",
            "moto....\t \n",
            "06....\t \t06\n",
            "only....\t \tonly\n",
            "your....\t \tyout\n",
            "sad....\t \tsad\n",
            "out....\t \tut\n",
            "design....\t \tdesign\n",
            "12 : 31....\t \ts\tn\n",
            "P.O....\t \n",
            "campbell....\t \tcampbell\n",
            "construction....\t \tdinstriuction\n",
            "Riverside....\t \triverside\n",
            "order....\t \torder\n",
            "light....\t \tlight\n",
            "restaurant....\t \trestaurant\n",
            "sorry....\t \tsorry\n",
            "break....\t \tbreak\n",
            "fire....\t \tfire\n",
            "car....\t \tcar\n",
            "dell....\t \tdell\n",
            "adapter....\t \tadapter\n",
            "south....\t \tsouth\n",
            "hp....\t \thp\td\td\td\to\td\n",
            "glas....\t \tglass\n",
            "monument....\t \tmonument\n",
            "4b.526....\t \t4b1526\n",
            "sack....\t \tsack\n",
            "crossing....\t \tcrossing\n",
            "entry....\t \tentry\n",
            "generation....\t \tnerate\tg\n",
            "photo....\t \tphoto\n",
            "plan....\t \tplan\n",
            "guide....\t \tguide\n",
            "Departure....\t \tdeparture\n",
            "castle....\t \tcastle\n",
            "summer....\t \tsuner\n",
            "care....\t \tcare\n",
            "when....\t \twhen\n",
            "asif....\t \tc\tlei\n",
            "2002....\t \t2002\n",
            "fired....\t \tfired\n",
            "mail....\t \tmail\n",
            "free....\t \tfree\n",
            "service....\t \tservice\n",
            "station....\t \tstation\n",
            "r....\t \tee\n",
            "4B.522....\t \taba522\n",
            "extinguisher....\t \textinguisher\n",
            "of....\t \tof\n",
            "flashing....\t \tlashing\tf\n",
            "hose....\t \those\n",
            "for....\t \tfor\n",
            "no....\t \tno\n",
            "walk....\t \twalk\n",
            "park....\t \tpark\n",
            "directory....\t \tdirectory\n",
            "tel:....\t \ttele\n",
            "tetley....\t \tsetley\n",
            "ride....\t \tride\n",
            "&....\t \tx\n",
            "art....\t \tart\n",
            "dollar....\t \tdollar\n",
            "cooling....\t \tcooling\n",
            "studio....\t \tilenak\n",
            "glen....\t \tglen\n",
            "baby's....\t \tbabys\n",
            "tourist....\t \ttourist\n",
            "01268....\t \t01268\n",
            "Management....\t \tanagement\n",
            "size....\t \tsize\n",
            "Castel....\t \tcastle\n",
            "4b.524....\t \t4b524\n",
            "sofware....\t \tsoftware\n",
            "word....\t \tword\n",
            "exit....\t \texit\n",
            "bae....\t \tbae\n",
            "canon....\t \tcanon\n",
            "delivery....\t \tdelivery\n",
            "toilet....\t \ttoilet\n",
            "gene....\t \n",
            "rostanin....\t \tstanin\tro\n",
            "games....\t \tgames\n",
            "emergency....\t \temergency\n",
            "campus....\t \tcampus\n",
            "are....\t \tare\n",
            "hsbc....\t \thsbc\n",
            "systems....\t \tsystems\n",
            "rough....\t \trough\n",
            "reel....\t \treel\n",
            "information....\t \tinformation\n",
            "keep....\t \tkeep\n",
            "shahab....\t \tshahab\n",
            "accommodation....\t \taccommodation\n",
            "new....\t \tge\tlel\n",
            "530888....\t \t8300888\n",
            "bmc....\t \tbll\n",
            "and....\t \tand\n",
            "danger....\t \tdanger\n",
            "oleg....\t \toleg\trc\n",
            "earth....\t \tearth\n",
            "i....\t \ta\n",
            "book....\t \tboak\n",
            "arms....\t \tarms\n",
            "vehicles....\t \tvehicles\n",
            "ancient....\t \tancient\n",
            "red....\t \tred\n",
            "website....\t \twebsite\n",
            "power shot....\t \tpower\tsho\n",
            "here....\t \there\n",
            "rogers....\t \trogers\n",
            "office....\t \toffice\n",
            "springer....\t \tbptinger\n",
            "the....\t \tthe\n"
          ],
          "name": "stdout"
        }
      ]
    },
    {
      "cell_type": "code",
      "metadata": {
        "id": "qwEOrPBt2-it"
      },
      "source": [
        "fig,axs = plt.subplots(nrows = len(images),figsize=(50,50))\n",
        "for ax, image, predictions in zip(axs,images,prediction):\n",
        "    keras_ocr.tools.drawAnnotations(image,predictions)"
      ],
      "execution_count": null,
      "outputs": []
    },
    {
      "cell_type": "markdown",
      "metadata": {
        "id": "w6vhYpThonLA"
      },
      "source": [
        "# Define Verification"
      ]
    },
    {
      "cell_type": "code",
      "metadata": {
        "id": "e2CxphUb31Xb"
      },
      "source": [
        "def Verification(Folder,predictions):\n",
        "  final_paths = []\n",
        "  final_texts = []\n",
        "\n",
        "  data_folder = Folder\n",
        "  for path in os.listdir(data_folder):\n",
        "    if path.endswith('.png'):  \n",
        "        final_paths.append(data_folder + \"/\" + path)\n",
        "        final_texts.append(path.split(\".png\")[0])\n",
        "  actual=[]\n",
        "  pred=[]\n",
        "  for i in range(len(final_paths)):\n",
        "      #index = randrange(len(val_final_paths))\n",
        "      #im = Image.open(final_paths[i])\n",
        "      #display(im)\n",
        "      original =  final_texts[i]\n",
        "      actual.append(original)\n",
        "      #print(\"\\n original\",original,\"\\n\")\n",
        "  for preds in predictions:\n",
        "      text = ''\n",
        "      for item in preds:\n",
        "          text += item[0]\n",
        "      pred.append(text)\n",
        "\n",
        "  act_lower=[]\n",
        "  pred_lower=[]\n",
        "  for i in range(len(actual)):\n",
        "    act_lower.append(actual[i].lower())\n",
        "    pred_lower.append(pred[i].lower())\n",
        "\n",
        "  OverallAcc = accuracy_score(act_lower,pred_lower)\n",
        "  print(\"Accuracy \",OverallAcc)\n",
        "  total = 0\n",
        "  dist=[]\n",
        "  for i in range(len(act_lower)):\n",
        "    k=editdistance.eval(act_lower[i], pred_lower[i])\n",
        "    dist.append(k)\n",
        "    total+=k\n",
        "  print(\"edit distance\",total,total/len(act_lower))\n",
        "  orig_characters = []\n",
        "  pred_characters = []\n",
        "  for i in range(len(act_lower)):\n",
        "    if len(actual[i])==len(pred[i]):\n",
        "      a= list(act_lower[i])\n",
        "      b = list(pred_lower[i])\n",
        "      orig_characters+=a\n",
        "      pred_characters+=b\n",
        "  CM_overall = confusion_matrix(orig_characters,pred_characters,characters)\n",
        "  f = plt.figure(figsize=(20,15))\n",
        "  #f=plt.fifure(fontsize=25)\n",
        "  ax= f.add_subplot()\n",
        "  h=sns.heatmap(CM_overall, annot=True, ax = ax,cmap=\"YlGnBu\"); #annot=True to annotate cells\n",
        "  ax.xaxis.set_label_position('top') \n",
        "  ax.xaxis.tick_top()\n",
        "  # labels, title and ticks\n",
        "  ax.set_xlabel('Predicted labels',fontsize=25);ax.set_ylabel('True labels',fontsize=25); \n",
        "  ax.set_title('Confusion Matrix',fontsize=25); \n",
        "  ax.xaxis.set_ticklabels(characters,fontsize=10); ax.yaxis.set_ticklabels(characters,fontsize=10);\n",
        "  #f.savefig(\"o.png\")\n",
        "  print(classification_report(orig_characters, pred_characters, labels=characters))"
      ],
      "execution_count": 47,
      "outputs": []
    },
    {
      "cell_type": "markdown",
      "metadata": {
        "id": "_cDEkp5KowRK"
      },
      "source": [
        "# Run Verfication on YOLO Images"
      ]
    },
    {
      "cell_type": "code",
      "metadata": {
        "colab": {
          "base_uri": "https://localhost:8080/",
          "height": 1000
        },
        "id": "zolbMmCbkxdF",
        "outputId": "a0b30132-249b-4bf3-c570-f7e57908ef94"
      },
      "source": [
        "Verification('img',predictions=prediction)"
      ],
      "execution_count": 48,
      "outputs": [
        {
          "output_type": "stream",
          "text": [
            "Accuracy  0.6859504132231405\n",
            "edit distance 94 0.7768595041322314\n"
          ],
          "name": "stdout"
        },
        {
          "output_type": "stream",
          "text": [
            "/usr/local/lib/python3.6/dist-packages/sklearn/metrics/_classification.py:1272: UndefinedMetricWarning: Precision and F-score are ill-defined and being set to 0.0 in labels with no predicted samples. Use `zero_division` parameter to control this behavior.\n",
            "  _warn_prf(average, modifier, msg_start, len(result))\n",
            "/usr/local/lib/python3.6/dist-packages/sklearn/metrics/_classification.py:1272: UndefinedMetricWarning: Recall and F-score are ill-defined and being set to 0.0 in labels with no true samples. Use `zero_division` parameter to control this behavior.\n",
            "  _warn_prf(average, modifier, msg_start, len(result))\n"
          ],
          "name": "stderr"
        },
        {
          "output_type": "stream",
          "text": [
            "              precision    recall  f1-score   support\n",
            "\n",
            "           a       0.84      0.92      0.88        39\n",
            "           b       0.92      1.00      0.96        11\n",
            "           c       0.95      0.95      0.95        20\n",
            "           d       1.00      0.95      0.97        19\n",
            "           e       0.94      0.99      0.96        68\n",
            "           f       0.90      0.82      0.86        11\n",
            "           g       0.93      0.93      0.93        14\n",
            "           h       0.93      0.93      0.93        15\n",
            "           i       0.88      0.86      0.87        35\n",
            "           j       0.00      0.00      0.00         0\n",
            "           k       0.86      1.00      0.92         6\n",
            "           l       0.77      0.91      0.83        22\n",
            "           m       1.00      0.93      0.96        14\n",
            "           n       0.90      0.93      0.92        30\n",
            "           o       0.97      0.91      0.94        35\n",
            "           p       1.00      1.00      1.00         9\n",
            "           q       1.00      1.00      1.00         1\n",
            "           r       0.98      0.94      0.96        49\n",
            "           s       0.91      0.85      0.88        34\n",
            "           t       0.91      0.91      0.91        33\n",
            "           u       1.00      0.92      0.96        13\n",
            "           v       1.00      1.00      1.00         5\n",
            "           w       1.00      1.00      1.00         5\n",
            "           x       0.67      1.00      0.80         2\n",
            "           y       1.00      1.00      1.00         9\n",
            "           z       1.00      1.00      1.00         1\n",
            "\n",
            "   micro avg       0.92      0.93      0.93       500\n",
            "   macro avg       0.89      0.91      0.90       500\n",
            "weighted avg       0.93      0.93      0.93       500\n",
            "\n"
          ],
          "name": "stdout"
        },
        {
          "output_type": "display_data",
          "data": {
            "image/png": "[encoded data removed]",
            "text/plain": [
              "<Figure size 1440x1080 with 2 Axes>"
            ]
          },
          "metadata": {
            "tags": [],
            "needs_background": "light"
          }
        }
      ]
    },
    {
      "cell_type": "markdown",
      "metadata": {
        "id": "BFelMPRJiB5v"
      },
      "source": [
        "EAST Images"
      ]
    },
    {
      "cell_type": "markdown",
      "metadata": {
        "id": "R7HOQcj3nxd3"
      },
      "source": [
        "# Text Recognition on EAST Generated Images"
      ]
    },
    {
      "cell_type": "code",
      "metadata": {
        "id": "O7EHM9XdiEZR"
      },
      "source": [
        "east_originals = [img[:-4] for img in os.listdir(eastbasefolder) if img.endswith('.png')]"
      ],
      "execution_count": 54,
      "outputs": []
    },
    {
      "cell_type": "code",
      "metadata": {
        "id": "2FxcieCaiKoj"
      },
      "source": [
        "east_prediction = pipeline.recognize(east_images)"
      ],
      "execution_count": 56,
      "outputs": []
    },
    {
      "cell_type": "code",
      "metadata": {
        "colab": {
          "base_uri": "https://localhost:8080/"
        },
        "id": "abitzY0UiQno",
        "outputId": "ff29ae52-ca12-40ad-86d9-9ba45e2a4930"
      },
      "source": [
        "for orig,pred in zip(east_originals,east_prediction):\n",
        "    text = ''\n",
        "    for item in pred:\n",
        "        text += '\\t' + item[0]\n",
        "    print(orig+'....\\t',text)"
      ],
      "execution_count": 57,
      "outputs": [
        {
          "output_type": "stream",
          "text": [
            "Risk....\t \trilis\n",
            "Services....\t \tb\tservices\n",
            "4B.526....\t \t1b\t526\n",
            "To....\t \tta\n",
            "Tyre....\t \tyre\n",
            "Web....\t \tweb\n",
            "FOSTERS'S....\t \tfosters\n",
            "HOME....\t \thome\n",
            "Philips....\t \tphilips\n",
            "GOOD....\t \tgood\n",
            "ON....\t \ton\n",
            "HERE....\t \there\n",
            "CASK....\t \tcask\n",
            "CHILDREN....\t \tchildben\n",
            "GARDEN....\t \tgarden\n",
            "BOARDS....\t \tboards\n",
            "go....\t \too\n",
            "YOU....\t \tyou\n",
            "M.O.T.....\t \tmot\n",
            "DRI_WIPE....\t \tdriewipe\n",
            "arlboro....\t \tanlhon\n",
            "FLASH....\t \tflash\n",
            "POST....\t \tpost\n",
            "ARGYLL'S....\t \targylls\n",
            "SAMSUNG....\t \tsamsung\n",
            "Greenstead....\t \tgreensteac\n",
            "D....\t \n",
            "115mm....\t \t115mm\n",
            "MORTAGES....\t \tmortgages\n",
            "Central....\t \tlentra\n",
            "Injury....\t \tniir\n",
            "raised....\t \traised\n",
            "Footpath....\t \tfoatpath\n",
            "MODERN....\t \tmodern\n",
            "RYANAIR....\t \tryanair\n",
            "Experience....\t \texperience\n",
            "NATIONAL....\t \tscottish\n",
            "LIFE!....\t \tlieei\n",
            "when....\t \twhen\n",
            "4B.524....\t \tab\tsea\n",
            "(412)....\t \ts0\t4\n",
            "4B.522....\t \tabl572\n",
            "CORAL....\t \tcorai\n",
            "USE....\t \tuse\n",
            "KEEP....\t \teep\tk\n",
            "LODGINGS....\t \tlodgings\n",
            "Revolution....\t \trevolution\n",
            "FOOD....\t \tfood\n",
            "CONDITIONED....\t \tconditioned\n",
            "ESP....\t \tese\n",
            "Orange....\t \torange\n",
            "SONY....\t \tsony\n",
            "Java....\t \tjava\n",
            "SyncMaster....\t \tsyncmaster\n",
            "professional....\t \torofessiona\n",
            "STIRLING....\t \tstirling\n",
            "ALES....\t \tes\tal\n",
            "Proceed....\t \tproceed\n",
            "caution.....\t \tcaution\n",
            "MultiSync....\t \tmultisync\n",
            "CONSTRUCTION....\t \tcnistriliatin\n",
            "with....\t \twith\n",
            "CARLING....\t \tcarling\n",
            "ARE....\t \tare\n",
            "213T....\t \t213t\n",
            "DANGER....\t \tdaanngiee\n",
            "OFFICE....\t \toffice\n",
            "Tickets....\t \ttickets\n",
            "4B.528....\t \tab\t528\n",
            "Height....\t \theight\n",
            "fisio....\t \tfisio\n",
            "DELL....\t \tdmall\n",
            "ONLY....\t \tonly\n",
            "PENSIONS....\t \tpensions\n",
            "GALLERY....\t \tgallery\n",
            "Colchester....\t \tcolchester\n",
            "THESE....\t \tthese\n",
            "CASTLE....\t \tcastle\n",
            "and....\t \tand\n",
            "OUT....\t \n",
            "SITE....\t \tsiter\n",
            "SCOTTISH....\t \tscottish\n",
            "MADE....\t \tmade\n",
            "DIGITAL....\t \tdigital\n",
            "UPGRADE....\t \tpgrade\n",
            "MARKERS....\t \tmarkers\n",
            "LCD2470WVX....\t \tlcd2azowve\n",
            "820e....\t \t820e\n",
            "F....\t \te\n",
            "PUSH....\t \tpuish\n",
            "Trains....\t \trains\n",
            "YOUR....\t \ty\n",
            "INVESTMENTS....\t \tinvestments\n",
            "Information....\t \tinformations\n",
            "create....\t \tcreate\n",
            "LIGHTS....\t \tlights\n",
            "POCKET....\t \tpocket\n"
          ],
          "name": "stdout"
        }
      ]
    },
    {
      "cell_type": "code",
      "metadata": {
        "colab": {
          "base_uri": "https://localhost:8080/",
          "height": 1000
        },
        "id": "bNDPDAQknLT6",
        "outputId": "957716d9-2478-4c3c-d979-0f44d285298d"
      },
      "source": [
        "Verification('east',predictions=east_prediction)"
      ],
      "execution_count": 59,
      "outputs": [
        {
          "output_type": "stream",
          "text": [
            "Accuracy  0.5670103092783505\n",
            "edit distance 96 0.9896907216494846\n"
          ],
          "name": "stdout"
        },
        {
          "output_type": "stream",
          "text": [
            "/usr/local/lib/python3.6/dist-packages/sklearn/metrics/_classification.py:1272: UndefinedMetricWarning: Precision and F-score are ill-defined and being set to 0.0 in labels with no predicted samples. Use `zero_division` parameter to control this behavior.\n",
            "  _warn_prf(average, modifier, msg_start, len(result))\n",
            "/usr/local/lib/python3.6/dist-packages/sklearn/metrics/_classification.py:1272: UndefinedMetricWarning: Recall and F-score are ill-defined and being set to 0.0 in labels with no true samples. Use `zero_division` parameter to control this behavior.\n",
            "  _warn_prf(average, modifier, msg_start, len(result))\n"
          ],
          "name": "stderr"
        },
        {
          "output_type": "stream",
          "text": [
            "              precision    recall  f1-score   support\n",
            "\n",
            "           a       0.83      0.89      0.86        27\n",
            "           b       0.75      1.00      0.86         3\n",
            "           c       0.90      1.00      0.95        18\n",
            "           d       1.00      0.94      0.97        17\n",
            "           e       0.87      0.96      0.91        48\n",
            "           f       1.00      0.75      0.86         8\n",
            "           g       1.00      0.93      0.96        14\n",
            "           h       0.93      1.00      0.97        14\n",
            "           i       0.91      0.97      0.94        30\n",
            "           j       1.00      1.00      1.00         1\n",
            "           k       0.80      0.80      0.80         5\n",
            "           l       0.89      0.85      0.87        20\n",
            "           m       1.00      1.00      1.00        10\n",
            "           n       1.00      0.93      0.96        27\n",
            "           o       0.90      0.90      0.90        31\n",
            "           p       0.90      0.82      0.86        11\n",
            "           q       0.00      0.00      0.00         0\n",
            "           r       1.00      0.96      0.98        24\n",
            "           s       0.91      0.97      0.94        31\n",
            "           t       0.93      0.96      0.95        27\n",
            "           u       1.00      1.00      1.00         5\n",
            "           v       1.00      1.00      1.00         4\n",
            "           w       1.00      1.00      1.00         5\n",
            "           x       1.00      0.50      0.67         2\n",
            "           y       1.00      1.00      1.00         7\n",
            "           z       0.00      0.00      0.00         0\n",
            "\n",
            "   micro avg       0.92      0.94      0.93       389\n",
            "   macro avg       0.87      0.85      0.85       389\n",
            "weighted avg       0.92      0.94      0.93       389\n",
            "\n"
          ],
          "name": "stdout"
        },
        {
          "output_type": "display_data",
          "data": {
            "image/png": "[encoded data removed]",
            "text/plain": [
              "<Figure size 1440x1080 with 2 Axes>"
            ]
          },
          "metadata": {
            "tags": [],
            "needs_background": "light"
          }
        }
      ]
    }
  ]
}